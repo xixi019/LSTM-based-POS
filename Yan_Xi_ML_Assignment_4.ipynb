{
  "nbformat": 4,
  "nbformat_minor": 0,
  "metadata": {
    "colab": {
      "name": "Yan_Xi_ML_Assignment_4.ipynb",
      "provenance": [],
      "collapsed_sections": []
    },
    "kernelspec": {
      "display_name": "Python 3",
      "language": "python",
      "name": "python3"
    },
    "language_info": {
      "codemirror_mode": {
        "name": "ipython",
        "version": 3
      },
      "file_extension": ".py",
      "mimetype": "text/x-python",
      "name": "python",
      "nbconvert_exporter": "python",
      "pygments_lexer": "ipython3",
      "version": "3.7.4"
    }
  },
  "cells": [
    {
      "cell_type": "markdown",
      "metadata": {
        "id": "hDiinvkoxnp6",
        "colab_type": "text"
      },
      "source": [
        "Before running the program, please unzip the file\"corpus\",\n",
        "\n",
        "Upload the files to the root directory of your google drive.  \n",
        "These are conull files needed to run the model.\n",
        "Basically the different language I test are:\n",
        "English,  "
      ]
    },
    {
      "cell_type": "code",
      "metadata": {
        "colab_type": "code",
        "id": "qDDstzhwztQS",
        "colab": {
          "base_uri": "https://localhost:8080/",
          "height": 89
        },
        "outputId": "207afb9e-fedc-4bab-f82e-1008406cfd75"
      },
      "source": [
        "# Our standard imports for math and basic methodology\n",
        "import numpy as np\n",
        "from sklearn.model_selection import train_test_split\n",
        "\n",
        "import time\n",
        "import matplotlib.pyplot as plt\n",
        "\n",
        "import torch\n",
        "import torch.nn as nn\n",
        "import torch.nn.functional as F\n",
        "import torch.optim as optim\n",
        "\n",
        "import pandas as pd\n",
        "import seaborn as sns\n",
        "\n",
        "!pip install conllu\n",
        "from torch.utils.data import Dataset, DataLoader\n",
        "from conllu import parse\n",
        "from conllu import parse_incr\n",
        "\n",
        "import random\n",
        "from random import shuffle\n",
        "random.seed(1)\n",
        "\n",
        "import nltk\n",
        "nltk.download('wordnet')\n",
        "from nltk.corpus import wordnet\n",
        "\n",
        "# Remember to unzip and upload the files in the zipped file ,\n",
        "# Authorize access to your google drive and change the directory to root directory.\n",
        "import os\n",
        "from google.colab import drive\n",
        "drive.mount('/content/drive')\n",
        "path = \"/content/drive/My Drive\"\n",
        "os.chdir(path)\n",
        "\n"
      ],
      "execution_count": 5,
      "outputs": [
        {
          "output_type": "stream",
          "text": [
            "Requirement already satisfied: conllu in /usr/local/lib/python3.6/dist-packages (2.3.2)\n",
            "[nltk_data] Downloading package wordnet to /root/nltk_data...\n",
            "[nltk_data]   Package wordnet is already up-to-date!\n",
            "Drive already mounted at /content/drive; to attempt to forcibly remount, call drive.mount(\"/content/drive\", force_remount=True).\n"
          ],
          "name": "stdout"
        }
      ]
    },
    {
      "cell_type": "markdown",
      "metadata": {
        "id": "eHVFIPW0xnqF",
        "colab_type": "text"
      },
      "source": [
        "Inherit the dataset class in pytorch to process our data.\n",
        "\n",
        "We process the path of file and get the data we want to put into the model.\n",
        "\n",
        "Two choices of data augmentation are offered: synonym replacement and random deletion. "
      ]
    },
    {
      "cell_type": "code",
      "metadata": {
        "id": "pcGRH8_YxnqG",
        "colab_type": "code",
        "colab": {}
      },
      "source": [
        "class POSDataset(Dataset):\n",
        "    \"\"\"Face Landmarks dataset.\"\"\"\n",
        "\n",
        "    def __init__(self, conllu_file_path, word2idx=None, tag2idx=None, idx2word=None, idx2tag=None, training=False, eng_aug=False):\n",
        "        self.data_file = open(conllu_file_path, \"r\", encoding=\"utf-8\")\n",
        "        self.x = []\n",
        "        self.y = []\n",
        "        self.stop_words = ['i', 'me', 'my', 'myself', 'we', 'our', \n",
        "                'ours', 'ourselves', 'you', 'your', 'yours', \n",
        "                'yourself', 'yourselves', 'he', 'him', 'his', \n",
        "                'himself', 'she', 'her', 'hers', 'herself', \n",
        "                'it', 'its', 'itself', 'they', 'them', 'their', \n",
        "                'theirs', 'themselves', 'what', 'which', 'who', \n",
        "                'whom', 'this', 'that', 'these', 'those', 'am', \n",
        "                'is', 'are', 'was', 'were', 'be', 'been', 'being', \n",
        "                'have', 'has', 'had', 'having', 'do', 'does', 'did',\n",
        "                'doing', 'a', 'an', 'the', 'and', 'but', 'if', 'or',\n",
        "                'because', 'as', 'until', 'while', 'of', 'at', \n",
        "                'by', 'for', 'with', 'about', 'against', 'between',\n",
        "                'into', 'through', 'during', 'before', 'after', \n",
        "                'above', 'below', 'to', 'from', 'up', 'down', 'in',\n",
        "                'out', 'on', 'off', 'over', 'under', 'again', \n",
        "                'further', 'then', 'once', 'here', 'there', 'when', \n",
        "                'where', 'why', 'how', 'all', 'any', 'both', 'each', \n",
        "                'few', 'more', 'most', 'other', 'some', 'such', 'no', \n",
        "                'nor', 'not', 'only', 'own', 'same', 'so', 'than', 'too', \n",
        "                'very', 's', 't', 'can', 'will', 'just', 'don', \n",
        "                'should', 'now', ''] \n",
        "        \n",
        "        for tokenlist in parse_incr(self.data_file): \n",
        "            a = []\n",
        "            b = []\n",
        "            if len(tokenlist) >= 3:\n",
        "                for token in tokenlist:\n",
        "                    a.append(token['form']) \n",
        "                    b.append(token['upostag'])\n",
        "                self.x.append(a)\n",
        "                self.y.append(b)\n",
        "        \n",
        "        if eng_aug: \n",
        "            if eng_aug == 'sn_replacement':\n",
        "                for i in range(len(self.x)):\n",
        "                    self.x[i] = self.synonym_replacement(self.x[i])\n",
        "\n",
        "            if eng_aug == 'rd_deletion':\n",
        "                X_dele = []\n",
        "                y_dele = []\n",
        "                for sentences, labels in zip(self.x, self.y):\n",
        "                    new_sentences, new_labels = self.random_deletion(sentences, labels)\n",
        "                    X_dele.append(new_sentences)\n",
        "                    y_dele.append(new_labels)\n",
        "                self.x = X_dele\n",
        "                self.y = y_dele\n",
        "        \n",
        "        if training == True:  # if it's a training set data, we will split them into test set and training set for training set testing\n",
        "            self.x_fin, self.x_test, self.y_fin, self.y_test = train_test_split(self.x, self.y, test_size=0.1, random_state=0)\n",
        "        else:\n",
        "            self.x_fin = self.x\n",
        "            self.y_fin = self.y \n",
        "        \n",
        "    def __len__(self):\n",
        "        return len(self.x_fin)\n",
        "\n",
        "    def __getitem__(self, idx): \n",
        "        x = self.x_fin[idx]\n",
        "        y = self.y_fin[idx]\n",
        "        \n",
        "        return x, y\n",
        "    \n",
        "    def get_testset(self): # this allows the mean accuracy function we will use later to get the test_set\n",
        "        return self.x_test, self.y_test\n",
        "\n",
        "    def get_graph(self): # this will print out the distribution of dataset based on sentence length\n",
        "        l = np.asarray([len(x) for x in self.x], dtype=np.int)\n",
        "        plt.figure()\n",
        "        x = np.unique(l)\n",
        "        plt.bar(x, [np.sum(l==e) for e in x])\n",
        "        plt.xlabel(\"Sentence length\")\n",
        "        plt.ylabel(\"# sentences\")\n",
        "        plt.show()\n",
        "        \n",
        "    def data_peek(self): # this allows you too look at first 5 sentences and tags\n",
        "        a, b = self.x[:5], self.y[:5]\n",
        "        print(a)\n",
        "        print(b)\n",
        "        \n",
        "    def len_data(self): # this tells you how many sentences are in the data\n",
        "        return len(self.x)\n",
        "    # This gets a list of synonym of an english word.\n",
        "    def get_synonyms(self, word): \n",
        "        synonyms = set()\n",
        "        for syn in wordnet.synsets(word): \n",
        "            for l in syn.lemmas(): \n",
        "                synonym = l.name().replace(\"_\", \" \").replace(\"-\", \" \").lower()\n",
        "                synonym = \"\".join([char for char in synonym if char in ' qwertyuiopasdfghjklzxcvbnm'])\n",
        "                synonyms.add(synonym) \n",
        "        if word in synonyms:\n",
        "            synonyms.remove(word)\n",
        "        \n",
        "        word1 = word.split(' ')\n",
        "        deletion = []\n",
        "        for word in synonyms:\n",
        "            if len(word1) != len(word.split(' ')):\n",
        "                deletion.append(word)\n",
        "        for word in deletion:\n",
        "            synonyms.remove(word)\n",
        "        \n",
        "        return list(synonyms)\n",
        "    # This replaces up to 3 words in a sentence with their synonyms.\n",
        "    def synonym_replacement(self, words, n=3): \n",
        "        new_words = words.copy()\n",
        "        random_word_list = list(set([word for word in words if word not in self.stop_words]))\n",
        "        random.shuffle(random_word_list)\n",
        "        num_replaced = 0\n",
        "        for random_word in random_word_list:\n",
        "            synonyms = self.get_synonyms(random_word)\n",
        "            if len(synonyms) >= 1:\n",
        "                synonym = random.choice(list(synonyms))\n",
        "                new_words = [synonym if word == random_word else word for word in new_words]\n",
        "                num_replaced += 1\n",
        "            if num_replaced >= n: #only replace up to n words\n",
        "                break\n",
        "\n",
        "        #this is stupid but we need it, trust me\n",
        "        sentence = ' '.join(new_words)\n",
        "        new_words = sentence.split(' ')\n",
        "        return new_words\n",
        "\n",
        "    # This randomly deletes a word in a sentence with possibility of 0.7.\n",
        "    def random_deletion(self, words, labels, p=0.7): \n",
        "        if len(words) == 3:\n",
        "            return words, labels\n",
        "        origin = len(words)\n",
        "        new_words = []\n",
        "        new_labels = []\n",
        "        del_list = []\n",
        "        for i, word in enumerate(words):\n",
        "            if origin - len(del_list) > 3: # we will never trim the sentence into lower than length 3\n",
        "                r = random.uniform(0,1)\n",
        "                if r > p:\n",
        "                    del_list.append(i)\n",
        "                    \n",
        "        for i in range(len(words)):\n",
        "            if i not in del_list:\n",
        "                new_words.append(words[i])\n",
        "                new_labels.append(labels[i])\n",
        "                \n",
        "        return new_words, new_labels"
      ],
      "execution_count": 0,
      "outputs": []
    },
    {
      "cell_type": "markdown",
      "metadata": {
        "colab_type": "text",
        "id": "fHIiYxLyz2cf"
      },
      "source": [
        "## LSTM based tagger as a Class\n",
        "with bi-directionary choice offered."
      ]
    },
    {
      "cell_type": "code",
      "metadata": {
        "colab_type": "code",
        "id": "SwU6cWT2AqT6",
        "colab": {}
      },
      "source": [
        "class LSTMTagger(nn.Module):\n",
        "    def __init__(self, word_embedding_dim, lstm_hidden_dim, word2idx, tag2idx, bidirectional, num_layers):\n",
        "        \"\"\"An LSTM based tagger\n",
        "\n",
        "        word_embedding_dim\n",
        "          The dimensionality of the word embedding\n",
        "        lstm_hidden_dim\n",
        "          The dimensionality of the ...\n",
        "        vocabulary_size\n",
        "          The size of the vocabulary (i.e. the number of unique words in the word embedding)\n",
        "        tagset_size\n",
        "        \"\"\"\n",
        "\n",
        "        tagset_size = len(tag2idx)-1\n",
        "        vocabulary_size = len(word2idx)\n",
        "        self.word2idx = word2idx\n",
        "\n",
        "        super(LSTMTagger, self).__init__()                                  # We need to initialise the class we are inheriting from\n",
        "        self.lstm_hidden_dim = lstm_hidden_dim                             # This simply stores the parameter\n",
        "        self.vocabulary_size = vocabulary_size\n",
        "        self.tagset_size = tagset_size\n",
        "        self._word_embeddings = nn.Embedding(num_embeddings=vocabulary_size,     # Creates the vector space for the input words\n",
        "                                             embedding_dim=word_embedding_dim, \n",
        "                                             padding_idx=self.word2idx['<PAD>'])\n",
        "        self._lstm = nn.LSTM(input_size=word_embedding_dim,                 # The LSTM takes an embedded sentence as input, and outputs \n",
        "                             hidden_size=lstm_hidden_dim,                   # vectors with dimensionality lstm_hidden_dim.\n",
        "                             batch_first=True,\n",
        "                             bidirectional=bidirectional,\n",
        "                             num_layers=num_layers)\n",
        "\n",
        "        self._hidden2tags = nn.Linear(lstm_hidden_dim, tagset_size)         # The linear layer maps from the RNN output space to tag space\n",
        "\n",
        "    def forward(self, padded_sentences):\n",
        "        \"\"\"The forward pass through the network\"\"\"\n",
        "\n",
        "        batch_size, max_sentence_length = padded_sentences.size()\n",
        "\n",
        "        sentence_lengths = list()\n",
        "        for i in range(batch_size):\n",
        "            for j in range(max_sentence_length, 1, -1):\n",
        "                if padded_sentences[i, j-1] != self.word2idx['<PAD>']:\n",
        "                    sentence_lengths.append(j)\n",
        "                    break\n",
        "        sentence_lengths = torch.LongTensor(sentence_lengths)\n",
        "        embedded_sentences = self._word_embeddings(padded_sentences)                            # Sentences encoded as integers are mapped to vectors    \n",
        "\n",
        "        X = nn.utils.rnn.pack_padded_sequence(embedded_sentences, sentence_lengths,\n",
        "                                              batch_first=True, enforce_sorted = False)\n",
        "        lstm_out, _ = self._lstm(X)\n",
        "        X, _ = nn.utils.rnn.pad_packed_sequence(X, batch_first=True)\n",
        "\n",
        "        X = X.contiguous()\n",
        "        X = X.view(-1, X.shape[2])\n",
        "\n",
        "        tag_space = self._hidden2tags(X)     \n",
        "        # The output from the LSTM layer is flattened and passed to the fully \n",
        "                                                                            # connected layer.\n",
        "        tag_scores = F.log_softmax(tag_space, dim=1)                        # Softmax is applied to normalise the outputs\n",
        "\n",
        "        return tag_scores.view(batch_size, max_sentence_length, self.tagset_size)"
      ],
      "execution_count": 0,
      "outputs": []
    },
    {
      "cell_type": "markdown",
      "metadata": {
        "id": "7_KLhimwxnqY",
        "colab_type": "text"
      },
      "source": [
        "## GRU based tagger as a class\n",
        "dropout and bi-directionary can be added."
      ]
    },
    {
      "cell_type": "code",
      "metadata": {
        "id": "13iRt-PFxnqZ",
        "colab_type": "code",
        "colab": {}
      },
      "source": [
        "class GRUTagger(nn.Module):\n",
        "    \n",
        "    def __init__(self, word_embedding_dim, gru_hidden_dim, word2idx, tag2idx, bidirectional, num_layers, dropout):\n",
        "        tagset_size = len(tag2idx)-1\n",
        "        vocabulary_size = len(word2idx)\n",
        "        self.word2idx = word2idx        \n",
        "\n",
        "        super().__init__()                                  # We need to initialise the class we are inheriting from\n",
        "        self.gru_hidden_dim = gru_hidden_dim                             # This simply stores the parameter\n",
        "        self.vocabulary_size = vocabulary_size\n",
        "        self.tagset_size = tagset_size\n",
        "        self._word_embeddings = nn.Embedding(num_embeddings=vocabulary_size,     # Creates the vector space for the input words\n",
        "                                             embedding_dim=word_embedding_dim, \n",
        "                                             padding_idx=self.word2idx['<PAD>'])\n",
        "        self._gru = nn.GRU(input_size=word_embedding_dim,                 # The LSTM takes an embedded sentence as input, and outputs \n",
        "                             hidden_size=gru_hidden_dim,                   # vectors with dimensionality lstm_hidden_dim.\n",
        "                             batch_first=True, \n",
        "                             bidirectional=bidirectional,\n",
        "                             num_layers=num_layers,\n",
        "                             dropout=dropout)\n",
        "\n",
        "        self._hidden2tags = nn.Linear(gru_hidden_dim, tagset_size)         # The linear layer maps from the RNN output space to tag space\n",
        "\n",
        "    def forward(self, padded_sentences):\n",
        "        \"\"\"The forward pass through the network\"\"\"\n",
        "\n",
        "        batch_size, max_sentence_length = padded_sentences.size()\n",
        "\n",
        "        sentence_lengths = list()\n",
        "        for i in range(batch_size):\n",
        "            for j in range(max_sentence_length, 1, -1):\n",
        "                if padded_sentences[i, j-1] != self.word2idx['<PAD>']:\n",
        "                    sentence_lengths.append(j)\n",
        "                    break\n",
        "        sentence_lengths = torch.LongTensor(sentence_lengths)\n",
        "        embedded_sentences = self._word_embeddings(padded_sentences)                            # Sentences encoded as integers are mapped to vectors    \n",
        "\n",
        "        X = nn.utils.rnn.pack_padded_sequence(embedded_sentences, sentence_lengths,\n",
        "                                              batch_first=True, enforce_sorted = False)\n",
        "        gru_out, _ = self._gru(X)\n",
        "        X, _ = nn.utils.rnn.pad_packed_sequence(X, batch_first=True)\n",
        "\n",
        "        X = X.contiguous()\n",
        "        X = X.view(-1, X.shape[2])\n",
        "\n",
        "        tag_space = self._hidden2tags(X)     \n",
        "        # The output from the LSTM layer is flattened and passed to the fully \n",
        "                                                                            # connected layer.\n",
        "        tag_scores = F.log_softmax(tag_space, dim=1)                        # Softmax is applied to normalise the outputs\n",
        "\n",
        "        return tag_scores.view(batch_size, max_sentence_length, self.tagset_size)"
      ],
      "execution_count": 0,
      "outputs": []
    },
    {
      "cell_type": "markdown",
      "metadata": {
        "id": "xz_pJ8kJxnqd",
        "colab_type": "text"
      },
      "source": [
        "## Whole Pipeline as a Class\n",
        "\n",
        "This pipeline combines the data loading, data preprocessing, model loading, model running and presenting the data.\n",
        "\n",
        "\n",
        "The input is the filepath of the data and whether we should apply english augmentation."
      ]
    },
    {
      "cell_type": "code",
      "metadata": {
        "colab_type": "code",
        "id": "IVBW4NNNOwY5",
        "colab": {}
      },
      "source": [
        "from torch.utils import data\n",
        "class pipeline():\n",
        "    \n",
        "    def __init__(self, filepath, eng_aug=False): \n",
        "        self.filepath = filepath\n",
        "        self.training_set = POSDataset(filepath, training = True, eng_aug=eng_aug) \n",
        "        self.create_idx() \n",
        "    \n",
        "    # draw the graph about the sentence length.\n",
        "    def trainingset_info(self):\n",
        "        self.training_set.get_graph() \n",
        "        \n",
        "    def create_idx(self): # creating idx, word, tag trasition dictionary\n",
        "        self.word2idx = {'<PAD>': 0, '<UNK>': 1}\n",
        "        self.tag2idx = dict()\n",
        "        for sentence, tags in zip(self.training_set.x_fin, self.training_set.y_fin):\n",
        "            for word in sentence:\n",
        "                word = word.lower()\n",
        "                if word not in self.word2idx:    # The 'in' operator is fast for dictionaries\n",
        "                    self.word2idx[word] = len(self.word2idx)\n",
        "            for tag in tags:\n",
        "                if tag not in self.tag2idx:\n",
        "                    self.tag2idx[tag] = len(self.tag2idx)\n",
        "                    \n",
        "        self.tag2idx['<PAD>'] = len(self.tag2idx)\n",
        "\n",
        "        # Creates lists for converting indeces to tags or words\n",
        "        self.idx2word = [None]*len(self.word2idx)\n",
        "        for word, idx in self.word2idx.items():\n",
        "            self.idx2word[idx] = word\n",
        "        self.idx2tag = [None]*len(self.tag2idx)\n",
        "        for tag, idx in self.tag2idx.items():\n",
        "            self.idx2tag[idx] = tag\n",
        "\n",
        "    # we create and choose the model hyperparameter.\n",
        "    def create_model(self, WORD_EMBEDDING_DIM=32, HIDDEN_DIM=32, model_type='lstm', bidirectional=False, num_layers=1, dropout=0):\n",
        "        if model_type == 'lstm':\n",
        "            self.model = LSTMTagger(word_embedding_dim=WORD_EMBEDDING_DIM, \n",
        "                               lstm_hidden_dim=HIDDEN_DIM, \n",
        "                               word2idx=self.word2idx,\n",
        "                               tag2idx=self.tag2idx,\n",
        "                               bidirectional=bidirectional,\n",
        "                               num_layers=num_layers\n",
        "                               )\n",
        "            return self.model\n",
        "        \n",
        "        elif model_type == 'gru':\n",
        "            self.model = GRUTagger(word_embedding_dim=WORD_EMBEDDING_DIM, \n",
        "                               gru_hidden_dim=HIDDEN_DIM, \n",
        "                               word2idx=self.word2idx,\n",
        "                               tag2idx=self.tag2idx,\n",
        "                               bidirectional=bidirectional,\n",
        "                               num_layers=num_layers,\n",
        "                               dropout=dropout\n",
        "                               )\n",
        "            return self.model\n",
        "\n",
        "    def pad_data(self, sentences, labels):     # padding data\n",
        "        assert len(sentences)==len(labels)\n",
        "        assert np.all([len(sentence)==len(tags) for sentence, tags in zip(sentences, labels)])\n",
        "        max_len = np.max([len(sentence) for sentence in sentences]) # Find out how much to pad\n",
        "        padded_sentences  = list()\n",
        "        padded_labels  = list()\n",
        "        for sentence, tags in zip(sentences, labels):               # Loop over the data\n",
        "            padded_sentence = [word.lower() if word.lower() in self.word2idx else '<UNK>' for word in sentence]  # Sentence, uses the <UNK> symbol for unknown words\n",
        "            padded_tags = [tag for tag in tags]                       # Tags\n",
        "            while len(padded_sentence) < max_len:                     # Adds padding to the sequences \n",
        "                padded_sentence.append('<PAD>')\n",
        "                padded_tags.append('<PAD>')\n",
        "            padded_sentences.append(padded_sentence)                  # Append the processed sample to the output\n",
        "            padded_labels.append(padded_tags)\n",
        "        return padded_sentences, padded_labels\n",
        "\n",
        "    def encode_data(self, padded_sentences, padded_labels): # encoding data\n",
        "        encoded_sentences = list()\n",
        "        for padded_sentence in padded_sentences:\n",
        "            encoded_sentences.append([self.word2idx[word] for word in padded_sentence])\n",
        "        encoded_labels = list()\n",
        "        for padded_tags in padded_labels:\n",
        "            encoded_labels.append([self.tag2idx[tag] for tag in padded_tags])\n",
        "        return torch.LongTensor(encoded_sentences), torch.LongTensor(encoded_labels)        \n",
        "        \n",
        "    def transform(self, xy): # use encoding data and padding data together for model training\n",
        "        xout, yout = self.encode_data(*self.pad_data(xy[0], xy[1]))\n",
        "        return xout, yout\n",
        "    \n",
        "    # after creating the model, we choose the optimizing parameters to train the model.\n",
        "    # you can choose the number of epoch, optimizer, learning rate and weight decay.\n",
        "    def training(self, batch_size=2000, n_epoch=10, optimizer='adam', lr=0.05, report=False, weight_decay=0): \n",
        "        if self.model: \n",
        "            \n",
        "            loss_function = nn.NLLLoss(ignore_index=self.tag2idx['<PAD>'])\n",
        "            training_generator = data.DataLoader(self.training_set, batch_size, shuffle=True) \n",
        "\n",
        "            # We give the optimiser the parameters to work with and a learning rate\n",
        "            if optimizer == 'adam':\n",
        "                optimizer = optim.Adam(self.model.parameters(), lr=lr, weight_decay=weight_decay)\n",
        "            elif optimizer == 'sgd':\n",
        "                optimizer = optim.SGD(self.model.parameters(), lr=lr, weight_decay=weight_decay)\n",
        "            \n",
        "\n",
        "            x_train = []\n",
        "            y_train = []\n",
        "\n",
        "            for x, y in map(self.transform, training_generator):\n",
        "                x_train.append(x)\n",
        "                y_train.append(y)    \n",
        "\n",
        "            self.loss_for_plotting = list()\n",
        "            start_t = time.time()\n",
        "            for epoch in range(n_epoch):\n",
        "                for inputs, targets in zip(x_train, y_train):    # Now for looping over the training data\n",
        "                    self.model.zero_grad()                                       # Reset gradients\n",
        "                    tag_scores = self.model(inputs)                              # Forward pass\n",
        "                    tag_scores = tag_scores.view(-1, self.model.tagset_size)     # Resize to get tag probabilities along a separate dimension\n",
        "                                                                        # but flatten all the different sentences\n",
        "                    targets = targets.view(-1)                              # Flatten y\n",
        "                    loss = loss_function(tag_scores, targets)               # Get loss\n",
        "                    loss.backward()                                         # Backpropagate the error\n",
        "                    optimizer.step()                                        # Run the optimizer to change the weights w.r.t the loss\n",
        "\n",
        "                    self.loss_for_plotting.append(loss.item())                   # Save the loss for plotting\n",
        "                if report:\n",
        "                    print(\"Epoch %i: loss=%.3f, time=%.1fs\" % (epoch, loss, time.time()-start_t))        \n",
        "        else:\n",
        "            print(\"Please use create_model() method first\")\n",
        "\n",
        "    def plotting(self):  # look at the plot of loss over epochs\n",
        "        if self.loss_for_plotting:\n",
        "            plt.figure()\n",
        "            plt.title(\"Plot for the (hopefully) decreasing loss over epochs\")\n",
        "            plt.plot(self.loss_for_plotting, '.-')\n",
        "            plt.xlabel(\"Batch\")\n",
        "            plt.ylabel(\"Loss\")\n",
        "            plt.show()\n",
        "        else:\n",
        "            print(\"Please use training() method first\")\n",
        "\n",
        "    def tag_mean_accuracy(self, y, y_hat): \n",
        "        accuracy = list()\n",
        "        for u, v in zip(y, y_hat):\n",
        "            accuracy.append(np.sum([e1==e2 for e1, e2 in zip(u, v)])/len(u))\n",
        "        return np.mean(accuracy), np.std(accuracy)\n",
        "\n",
        "    def mean_acc(self, report=False): # get the accuracy of the model, if report is true, it will print the result\n",
        "        X_test, y_test = self.training_set.get_testset() \n",
        "        with torch.no_grad():\n",
        "            inputs, _ = self.encode_data(*self.pad_data(X_test, y_test))\n",
        "            tag_scores = self.model(inputs)\n",
        "            tag_idx = np.asarray(np.argmax(tag_scores.numpy(), axis=2), dtype=np.int)\n",
        "            y_hat = list()\n",
        "            for i in range(tag_scores.shape[0]):\n",
        "                padding_mask = inputs[i, :] != self.word2idx['<PAD>']\n",
        "                y_hat.append([self.idx2tag[e] for e in tag_idx[i, padding_mask]])\n",
        "        accuracy, sigma = self.tag_mean_accuracy(y_test, y_hat)\n",
        "        if report:\n",
        "            print(\"Mean accuracy: %.1f%% [std %.1f%%]\" % (100*accuracy, 100*sigma))\n",
        "        return accuracy, sigma\n",
        "    \n",
        "    def get_data_length(self): # see how many sentences there are\n",
        "        return self.training_set.len_data()"
      ],
      "execution_count": 0,
      "outputs": []
    },
    {
      "cell_type": "markdown",
      "metadata": {
        "id": "rYgHQahJxnqj",
        "colab_type": "text"
      },
      "source": [
        "## Pipeline\n",
        "\n",
        "We try 15 langauges in our model and we categorize them according to the language\n",
        "family they belong to. We have 4 for uravic, 5 for germanic, 5 for slavic and \n",
        "one Chinese.\n",
        "We hope to see that for language in the similar linguistic family, they might \n",
        "have similar structure and would show resemblence in model with same complexity.\n",
        "But we are proved wrong. And the size of data proves to be a bigger impact \n",
        "on performance.\n",
        "\n",
        "\n",
        "The below model is based on bi-directional GRU, with 36 embedding/hidden dimension and 1 layer."
      ]
    },
    {
      "cell_type": "code",
      "metadata": {
        "id": "8EHnuQjExnqk",
        "colab_type": "code",
        "colab": {
          "base_uri": "https://localhost:8080/",
          "height": 773
        },
        "outputId": "db703170-f3b0-40e8-aaea-be5048bb4447"
      },
      "source": [
        "# prepare some langauge data\n",
        "\n",
        "# Germanic\n",
        "swedish = \"sv_lines-ud-train.conllu\"\n",
        "norwegian = \"no_bokmaal-ud-train.conllu\"\n",
        "dutch = \"nl_alpino-ud-train.conllu\"\n",
        "german = \"de_gsd-ud-train.conllu\"\n",
        "danish = \"da_ddt-ud-train.conllu\"\n",
        "\n",
        "# Slavic\n",
        "russian = \"ru_gsd-ud-train.conllu\"\n",
        "ukrainian = \"uk_iu-ud-train.conllu\"\n",
        "belarusian = \"be_hse-ud-train.conllu\"\n",
        "polish = \"pl_lfg-ud-train.conllu\"\n",
        "czech = \"cs_cac-ud-train.conllu\"\n",
        "\n",
        "# Uravic\n",
        "north_sami = \"sme_giella-ud-test.conllu\"\n",
        "hungarian = \"hu_szeged-ud-test.conllu\"\n",
        "Estonian = \"et_ewt-ud-test.conllu\"\n",
        "Finish = \"fi_ftb-ud-dev.conllu\"\n",
        "\n",
        "# Chinese\n",
        "chinese = \"zh_gsd-ud-train.conllu\"\n",
        "\n",
        "# prepapre a dictionary to put into pandas dataframe.\n",
        "language_list = [swedish, norwegian, dutch, german, danish, russian, ukrainian, belarusian, polish, czech, north_sami, hungarian, Estonian, Finish, chinese]\n",
        "language_name = ['Swedish', 'Norwegian', 'Dutch', 'german', 'Danish', 'Russian', 'Ukrainian', 'Belarusian', 'Polish', 'Czech', 'North_Sami', 'Hungarian', 'Estonian', 'Finish', 'Chinese']\n",
        "datapile = dict()\n",
        "datapile['Language'] = []\n",
        "datapile['Accuracy'] = []\n",
        "datapile['Std'] = []\n",
        "datapile['Number of Sentences'] = []\n",
        "\n",
        "# chosse the gru model\n",
        "def language_test(language_path, language_name):\n",
        "    language_gru = pipeline(language_path)\n",
        "    # create a model with parameter as below\n",
        "    language_gru.create_model(WORD_EMBEDDING_DIM=36, HIDDEN_DIM=36, model_type='gru', bidirectional=True, num_layers=1, dropout=0)\n",
        "    # train over the data with the optimizing option as below\n",
        "    language_gru.training(batch_size=2000, n_epoch=4, optimizer='adam', lr=0.05, weight_decay=0)\n",
        "    # get the accuracy, mean and number of sentences.\n",
        "    accuracy, sigma = language_gru.mean_acc()\n",
        "    datapile['Accuracy'].append(100*accuracy)\n",
        "    datapile['Language'].append(language_name)\n",
        "    datapile['Std'].append(100*sigma)\n",
        "    datapile['Number of Sentences'].append(language_gru.get_data_length())\n",
        "\n",
        "# pring the length of the langauge and testing result.    \n",
        "for i in range(len(language_list)):\n",
        "    print('Now processing:', language_name[i])\n",
        "    language_test(language_list[i], language_name[i])\n",
        "\n",
        "languages = pd.DataFrame(datapile)\n",
        "print()\n",
        "print('Germanic Languages')\n",
        "print(languages[0:5])\n",
        "print()\n",
        "print('Slavic Languages')\n",
        "print(languages[5:10])\n",
        "print()\n",
        "print('Roman Languages')\n",
        "print(languages[10:14])\n",
        "print()\n",
        "print('Chinese')\n",
        "print(languages[14:])"
      ],
      "execution_count": 10,
      "outputs": [
        {
          "output_type": "stream",
          "text": [
            "Now processing: Swedish\n",
            "Now processing: Norwegian\n",
            "Now processing: Dutch\n",
            "Now processing: german\n",
            "Now processing: Danish\n",
            "Now processing: Russian\n",
            "Now processing: Ukrainian\n",
            "Now processing: Belarusian\n",
            "Now processing: Polish\n",
            "Now processing: Czech\n",
            "Now processing: North_Sami\n",
            "Now processing: Hungarian\n",
            "Now processing: Estonian\n",
            "Now processing: Finish\n",
            "Now processing: Chinese\n",
            "\n",
            "Germanic Languages\n",
            "    Language   Accuracy        Std  Number of Sentences\n",
            "0    Swedish  58.448377  15.764788                 3152\n",
            "1  Norwegian  78.146350  13.000835                15172\n",
            "2      Dutch  78.937507  12.712439                12183\n",
            "3     german  71.300016  10.843572                13800\n",
            "4     Danish  58.492869  12.831729                 4222\n",
            "\n",
            "Slavic Languages\n",
            "     Language   Accuracy        Std  Number of Sentences\n",
            "5     Russian  42.559083  12.888112                 3848\n",
            "6   Ukrainian  57.955214  14.854894                 5379\n",
            "7  Belarusian  39.757755  16.734061                  319\n",
            "8      Polish  76.307774  17.288162                13605\n",
            "9       Czech  83.312672  10.879080                23297\n",
            "\n",
            "Roman Languages\n",
            "      Language   Accuracy        Std  Number of Sentences\n",
            "10  North_Sami  32.220936  15.220914                  865\n",
            "11   Hungarian  42.563635   8.636997                  449\n",
            "12    Estonian  39.641601  11.867854                  535\n",
            "13      Finish  32.602541  14.747924                 1744\n",
            "\n",
            "Chinese\n",
            "   Language   Accuracy        Std  Number of Sentences\n",
            "14  Chinese  51.630455  11.100396                 3997\n"
          ],
          "name": "stdout"
        }
      ]
    },
    {
      "cell_type": "markdown",
      "metadata": {
        "id": "V1jnqZx5xnqr",
        "colab_type": "text"
      },
      "source": [
        "Test on English data set to see whether below works:\n",
        "\n",
        "\n",
        "Data Augmentation, Dropout, Weight Decay\n",
        "\n",
        "We examine random deletion, synonym replacement(simple data augmentation on nlp), dropout and weight decay's effect on our data. The data augmentation involves two approaches. \n",
        "\n",
        "1. random deletion works in our model.\n",
        "2. synonym hurt the accuracy.\n",
        "These two are intended to improve the robutness of the model while dataset are \n",
        "small.\n",
        "3. weight decay show no obvious effect. It works as a L2 regularization in updating the parameter.\n",
        "4. dropout hurts the accuracy. It is designed to improve model's robutness and \n",
        "prevemt over-fitting by randomly deleting some neuron in an extra dropout layer."
      ]
    },
    {
      "cell_type": "code",
      "metadata": {
        "id": "e_-LYvCtxnqs",
        "colab_type": "code",
        "colab": {
          "base_uri": "https://localhost:8080/",
          "height": 269
        },
        "outputId": "91d49cdd-c5ef-4abd-9889-ce706be9d95a"
      },
      "source": [
        "english = \"en_ewt-ud-train.conllu\"\n",
        "\n",
        "def english_test(language_path, eng_aug, dropout, weight_decay, layers):\n",
        "    language_gru = pipeline(language_path, eng_aug=eng_aug)\n",
        "    language_gru.create_model(WORD_EMBEDDING_DIM=36, HIDDEN_DIM=36, model_type='gru', bidirectional=True, num_layers=layers, dropout=dropout)\n",
        "    language_gru.training(batch_size=2000, n_epoch=4, optimizer='adam', lr=0.05, weight_decay=weight_decay)\n",
        "    accuracy, sigma = language_gru.mean_acc(report=True)\n",
        "\n",
        "print(\"No data augmentation, no dropout, no weight decay\")\n",
        "english_test(english, eng_aug=False, dropout= 0, weight_decay=0, layers=1)\n",
        "print()\n",
        "print('Use random deletion, no dropout, no weight decay')\n",
        "english_test(english, eng_aug='rd_deletion', dropout= 0, weight_decay=0, layers=1)\n",
        "print()\n",
        "print('Use synonyms replacement, no dropout, no weight decay')\n",
        "english_test(english, eng_aug='sn_replacement', dropout= 0, weight_decay=0, layers=1)\n",
        "print()\n",
        "print('No data augmentation, dropout = 0.5, no weight decay')\n",
        "english_test(english, eng_aug=False, dropout= 0.5, weight_decay=0, layers=2)\n",
        "print()\n",
        "print('No data augmentation, no dropout, weight decay = 0.0001')\n",
        "english_test(english, eng_aug=False, dropout= 0, weight_decay=0.0001, layers=1)\n"
      ],
      "execution_count": 11,
      "outputs": [
        {
          "output_type": "stream",
          "text": [
            "No data augmentation, no dropout, no weight decay\n",
            "Mean accuracy: 77.4% [std 13.7%]\n",
            "\n",
            "Use random deletion, no dropout, no weight decay\n",
            "Mean accuracy: 77.7% [std 15.7%]\n",
            "\n",
            "Use synonyms replacement, no dropout, no weight decay\n",
            "Mean accuracy: 73.1% [std 14.0%]\n",
            "\n",
            "No data augmentation, dropout = 0.5, no weight decay\n",
            "Mean accuracy: 77.4% [std 13.9%]\n",
            "\n",
            "No data augmentation, no dropout, weight decay = 0.0001\n",
            "Mean accuracy: 76.1% [std 14.4%]\n"
          ],
          "name": "stdout"
        }
      ]
    },
    {
      "cell_type": "markdown",
      "metadata": {
        "id": "VXpiD1_Hxnqx",
        "colab_type": "text"
      },
      "source": [
        "# Model complexity\n",
        "We take 6 languages and produce result through our pipeline. \n",
        "We increase embedding, hidden dimension, number of layer and test how accuracy \n",
        "changes on different languages.\n",
        "\n",
        "Embedding Dimension/ Hidden Dimension: from 36 to 116 (gap 20)\n",
        "Number of layers : from 1 to 16 (gap 5)\n",
        "\n",
        "\n",
        "Please note that below code will take quite a long time to run.\n",
        "\n",
        "The result is visualized in the next cell."
      ]
    },
    {
      "cell_type": "code",
      "metadata": {
        "id": "A8sfXa03xnqy",
        "colab_type": "code",
        "colab": {
          "base_uri": "https://localhost:8080/",
          "height": 1000
        },
        "outputId": "a5ddb1e5-83b3-4d93-c8ca-353f88e61f86"
      },
      "source": [
        "arabic = \"ar_padt-ud-train.conllu\"\n",
        "traditional_chinese = \"zh_gsd-ud-train.conllu\"\n",
        "finnish = \"fi_tdt-ud-test.conllu\"\n",
        "english = \"en_ewt-ud-train.conllu\"\n",
        "hindi = \"hi_hdtb-ud-train.conllu\"\n",
        "persian = \"fa_seraji-ud-train.conllu\"\n",
        "\n",
        "dimdata = dict()\n",
        "lydata = dict()\n",
        "dimdata['Dimensions'] = []\n",
        "dimdata['Language'] = []\n",
        "dimdata['Accuracy'] = []\n",
        "\n",
        "lydata['Layers'] = []\n",
        "lydata['Language'] = []\n",
        "lydata['Accuracy'] = []\n",
        "\n",
        "np.arange(36, 117, 20)\n",
        "np.arange(1, 12, 5)\n",
        "\n",
        "def model_complexity_test(language_path, language_name):\n",
        "    global dimdata, lydata\n",
        "    language_lstm = pipeline(language_path)\n",
        "    print(language_name, \"Training Data Info:\")\n",
        "    language_lstm.trainingset_info()\n",
        "    dim = list()\n",
        "    ly = list()\n",
        "    for n in range(0, 5):\n",
        "        num = 36 + n*20\n",
        "        language_lstm.create_model(WORD_EMBEDDING_DIM=num, HIDDEN_DIM=num, model_type='lstm', bidirectional=False, num_layers=1)\n",
        "        language_lstm.training(batch_size=2000, n_epoch=4, optimizer='adam', lr=0.05, weight_decay=0)\n",
        "        accuracy, sigma = language_lstm.mean_acc()\n",
        "        dim.append(100*accuracy)\n",
        "        dimdata['Dimensions'].append(num)\n",
        "    dim = np.array(dim)\n",
        "    name_list = np.array([language_name]*len(dim))\n",
        "    dimdata['Accuracy'].extend(dim)\n",
        "    dimdata['Language'].extend(name_list)\n",
        "    \n",
        "    for n in range(0, 4):\n",
        "        num = 1 + 5*n\n",
        "        language_lstm.create_model(WORD_EMBEDDING_DIM=36, HIDDEN_DIM=36, model_type='lstm', bidirectional=False, num_layers=num)\n",
        "        language_lstm.training(batch_size=2000, n_epoch=4, optimizer='adam', lr=0.05, weight_decay=0)\n",
        "        accuracy, sigma = language_lstm.mean_acc()\n",
        "        ly.append(100*accuracy)\n",
        "        lydata['Layers'].append(num)\n",
        "    ly = np.array(ly)\n",
        "    name_list = np.array([language_name]*len(ly))\n",
        "    lydata['Accuracy'].extend(ly)\n",
        "    lydata['Language'].extend(name_list)\n",
        "    '''\n",
        "    for i in range(len(wd)):\n",
        "        print('word embed', str(dim[i]))\n",
        "    \n",
        "    for i in range(len(hd)):\n",
        "        print('layer', str(ly[i]))\n",
        "    '''\n",
        "model_complexity_test(arabic, 'Arabic')\n",
        "model_complexity_test(traditional_chinese, 'Traditional Chinese')\n",
        "model_complexity_test(finnish, 'Finnish')\n",
        "model_complexity_test(english, 'English')\n",
        "model_complexity_test(hindi, 'Hindi')\n",
        "model_complexity_test(persian, 'Persian')"
      ],
      "execution_count": 13,
      "outputs": [
        {
          "output_type": "stream",
          "text": [
            "Arabic Training Data Info:\n"
          ],
          "name": "stdout"
        },
        {
          "output_type": "display_data",
          "data": {
            "image/png": "[encoded data removed]",
            "text/plain": [
              "<Figure size 432x288 with 1 Axes>"
            ]
          },
          "metadata": {
            "tags": [],
            "needs_background": "light"
          }
        },
        {
          "output_type": "stream",
          "text": [
            "Traditional Chinese Training Data Info:\n"
          ],
          "name": "stdout"
        },
        {
          "output_type": "display_data",
          "data": {
            "image/png": "[encoded data removed]",
            "text/plain": [
              "<Figure size 432x288 with 1 Axes>"
            ]
          },
          "metadata": {
            "tags": [],
            "needs_background": "light"
          }
        },
        {
          "output_type": "stream",
          "text": [
            "Finnish Training Data Info:\n"
          ],
          "name": "stdout"
        },
        {
          "output_type": "display_data",
          "data": {
            "image/png": "[encoded data removed]",
            "text/plain": [
              "<Figure size 432x288 with 1 Axes>"
            ]
          },
          "metadata": {
            "tags": [],
            "needs_background": "light"
          }
        },
        {
          "output_type": "stream",
          "text": [
            "English Training Data Info:\n"
          ],
          "name": "stdout"
        },
        {
          "output_type": "display_data",
          "data": {
            "image/png": "[encoded data removed]",
            "text/plain": [
              "<Figure size 432x288 with 1 Axes>"
            ]
          },
          "metadata": {
            "tags": [],
            "needs_background": "light"
          }
        },
        {
          "output_type": "stream",
          "text": [
            "Hindi Training Data Info:\n"
          ],
          "name": "stdout"
        },
        {
          "output_type": "display_data",
          "data": {
            "image/png": "[encoded data removed]",
            "text/plain": [
              "<Figure size 432x288 with 1 Axes>"
            ]
          },
          "metadata": {
            "tags": [],
            "needs_background": "light"
          }
        },
        {
          "output_type": "stream",
          "text": [
            "Persian Training Data Info:\n"
          ],
          "name": "stdout"
        },
        {
          "output_type": "display_data",
          "data": {
            "image/png": "[encoded data removed]",
            "text/plain": [
              "<Figure size 432x288 with 1 Axes>"
            ]
          },
          "metadata": {
            "tags": [],
            "needs_background": "light"
          }
        }
      ]
    },
    {
      "cell_type": "markdown",
      "metadata": {
        "id": "JF0Y4mjtxnq2",
        "colab_type": "text"
      },
      "source": [
        "Model complexity and language\n",
        "\n",
        "\n",
        "Below is the visualization performance of model on different languages.\n",
        "\n",
        "We can conclude that Persian, Finish, Traditional Chinese and Hindi are very sensitive to model complexity.\n",
        "\n",
        "Chinese performance better as the model has more and dimensions, while going downwards when the number of layers goes up.\n",
        "\n",
        "Arabic share similar trend with Chinese.\n",
        "\n",
        "Hindi and Persian flunctuates as the number of layers and dimensions increase, despite maintaining an upward trend.\n",
        "\n",
        "\n",
        "Finish goes through up and downs as the complexity changes but it still on \n",
        "an upward trend, reaching an overall lowest accuracy.\n",
        "\n",
        "Probably it still requires more dimensions and layers.\n",
        "\n",
        "English keeps a high accuracy level despite the change of model complexity.\n",
        "\n",
        "This might have something to do with the structure of languages, but we might need\n",
        "further comparison studies on language structures."
      ]
    },
    {
      "cell_type": "code",
      "metadata": {
        "id": "zXa39zAcxnq3",
        "colab_type": "code",
        "colab": {
          "base_uri": "https://localhost:8080/",
          "height": 721
        },
        "outputId": "a78532c2-c5d1-4bb7-91d5-a6ff6bcc7d9b"
      },
      "source": [
        "# store the dimension and layer data in pandas dataframe and draw the plot.\n",
        "\n",
        "df = pd.DataFrame(dimdata)\n",
        "bf = pd.DataFrame(lydata)\n",
        "\n",
        "\n",
        "# prepare plot\n",
        "ax = sns.relplot(x='Dimensions', y='Accuracy', data=df,\n",
        "                 hue='Language', kind='line', aspect=2)\n",
        "\n",
        "\n",
        "bx = sns.relplot(x='Layers', y='Accuracy', data=bf,\n",
        "                 hue='Language', kind='line', aspect=2)"
      ],
      "execution_count": 14,
      "outputs": [
        {
          "output_type": "display_data",
          "data": {
            "image/png": "[encoded data removed]",
            "text/plain": [
              "<Figure size 851.25x360 with 1 Axes>"
            ]
          },
          "metadata": {
            "tags": [],
            "needs_background": "light"
          }
        },
        {
          "output_type": "display_data",
          "data": {
            "image/png": "[encoded data removed]",
            "text/plain": [
              "<Figure size 851.25x360 with 1 Axes>"
            ]
          },
          "metadata": {
            "tags": [],
            "needs_background": "light"
          }
        }
      ]
    },
    {
      "cell_type": "markdown",
      "metadata": {
        "id": "FINH6Mt9xnq8",
        "colab_type": "text"
      },
      "source": [
        "## Shortcomings\n",
        "\n",
        "\n",
        "\n",
        "\n",
        "1. The model is too sensitive to the initial setting of the parameters. Our initial paramters are set to zero, which means they grow gradually over more\n",
        "epoch. While we might not be able to run several times. \n",
        "2. It takes lots of time and computing resources to run the model. The neural network model is indeed complicated, espcially for LSTM, where there are four linear transformation on each cell.\n",
        "\n",
        "3. The embedding of words ignores the sequence. While we know the part of speech of a word largely depends on the position of a words and its neighbours\n",
        "While in our case, Pytorch's own embedding function is a nearly linear one which takes the indices of the words and output vectors through lookuping a table that stores embeddings of a fixed dictionary and size. \n",
        "\n",
        "how to improve:\n",
        "\n",
        "1. We  might set the initial parameter as different numbers than zero. This can be implemented in Pytorch.\n",
        "2. We can introduce some auto ML technique and model which can adjust the \n",
        "paramters automatically.\n",
        "3. We may implement better word embedding technique, which takes the sequence into consideration.  For example, pretrained contextual and non-contextual \n",
        "subword embeddings is effective in POS. It seperates the words into two morphemes, performs morpheme embedding  and combines them together.\n",
        "(refer to this article for further detail； Sequence Tagging with Contextual and Non-Contextual Subword Representations: A Multilingual Evaluation)\n",
        "4. We can adopt adversarial training as part of data augmentation to serve as regularizer and to improve robutness.\n",
        "(Refer to this article for detail: Robust Multilingual Part-of-Speech Tagging via Adversarial Training)\n",
        "\n"
      ]
    },
    {
      "cell_type": "markdown",
      "metadata": {
        "id": "eHhubHBzxnq9",
        "colab_type": "text"
      },
      "source": [
        "## How pytorch implement Weight Decay\n",
        "\n",
        "Weight decay in Pytorch:\n",
        "To use weight decay in optimizer, we just adjust the paramter in optimizer. \n",
        "\n",
        "\n",
        "Below is the code for implementation of weight decay in adam optimizer:\n",
        "\n",
        "\n",
        "                if group['weight_decay'] != 0:\n",
        "                    grad.add_(group['weight_decay'], p.data)\n",
        "\n",
        "                # Decay the first and second moment running average coefficient\n",
        "                exp_avg.mul_(beta1).add_(1 - beta1, grad)\n",
        "                exp_avg_sq.mul_(beta2).addcmul_(1 - beta2, grad, grad)\n",
        "                if amsgrad:\n",
        "                    # Maintains the maximum of all 2nd moment running avg. till now                  \n",
        "Firstly, the gradient at time t is the combination of derrivative of loss function at data in time t-1 and multiplication of data at time t-1 by weight decay.\n",
        "In the code, we add the weight decay to the data element-wisely. \n",
        "Then exp_avg.mul_(beta1) is a matrix filled with product of (1-beta1) and gradient of data. exp_avg_sq.mul_(beta2) being the product of (1-beta2)*square of gradient\n",
        "                    torch.max(max_exp_avg_sq, exp_avg_sq, out=max_exp_avg_sq)\n",
        "                    # Use the max. for normalizing running avg. of gradient\n",
        "                    \n",
        "Secondly, when we update the weight, we reduce the original weight(when the weight decay is 0) by a product of learning rate\\*weight decay\\*weight at time t.\n",
        "In the code, the program maintains the maximum of all 2ed moment running average till now.\n",
        "Then it normalizes the runnign average of gradient by dividing the square of max number we got in the former step by the combination of square root of bias correction and eps variable. \n",
        "Note that eps is simply added to avoid the case that divisor is 0.\n",
        "This normalized value is stored to a variable \"denom\".\n",
        "\n",
        "                    denom = (max_exp_avg_sq.sqrt() / math.sqrt(bias_correction2)).add_(group['eps'])\n",
        "                else:\n",
        "                    denom = (exp_avg_sq.sqrt() / math.sqrt(bias_correction2)).add_(group['eps'])\n",
        "\n",
        "                step_size = group['lr'] / bias_correction1\n",
        "                \n",
        "In the end, denom is added to the weight in last moment combined with the step size and average exponential of gradient.\n",
        "                p.data.addcdiv_(-step_size, exp_avg, denom)\n",
        "\n",
        "        return loss\n",
        "\n",
        "\n"
      ]
    }
  ]
}